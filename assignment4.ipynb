{
 "cells": [
  {
   "cell_type": "markdown",
   "id": "fa1aaf1b-f2aa-45a5-b7b9-8d51ceaa2470",
   "metadata": {},
   "source": [
    "Q1. Create a python program to sort the given list of tuples based on integer value using a\n",
    "lambda function.\n",
    "[('Sachin Tendulkar', 34357), ('Ricky Ponting', 27483), ('Jack Kallis', 25534), ('Virat Kohli', 24936)]"
   ]
  },
  {
   "cell_type": "code",
   "execution_count": 19,
   "id": "f2765ebe-4338-45db-b3be-42e0f8ad7775",
   "metadata": {},
   "outputs": [
    {
     "name": "stdout",
     "output_type": "stream",
     "text": [
      "('Virat Kohli', 24936)\n",
      "('Jack Kallis', 25534)\n",
      "('Ricky Ponting', 27483)\n",
      "('Sachin Tendulkar', 34357)\n"
     ]
    }
   ],
   "source": [
    "l=[('Sachin Tendulkar', 34357), ('Ricky Ponting', 27483), ('Jack Kallis', 25534), ('Virat Kohli', 24936)]\n",
    "sorted_data=sorted(l,key=lambda x:x[1])\n",
    "for i in sorted_data:\n",
    "    print(i)\n"
   ]
  },
  {
   "cell_type": "markdown",
   "id": "3c1dddaa-db26-436b-a3ab-881632858b55",
   "metadata": {},
   "source": [
    "Q2. Write a Python Program to find the squares of all the numbers in the given list of integers using\n",
    "lambda and map functions.\n",
    "[1, 2, 3, 4, 5, 6, 7, 8, 9, 10]"
   ]
  },
  {
   "cell_type": "code",
   "execution_count": 20,
   "id": "294f4ad7-1f80-471b-849f-b3bcae092fd3",
   "metadata": {},
   "outputs": [
    {
     "data": {
      "text/plain": [
       "[1, 4, 9, 16, 25, 36, 49, 64, 81, 100]"
      ]
     },
     "execution_count": 20,
     "metadata": {},
     "output_type": "execute_result"
    }
   ],
   "source": [
    "l1=[1,2,3,4,5,6,7,8,9,10]\n",
    "def square(s):\n",
    "    return s**2\n",
    "list(map(square , l1))"
   ]
  },
  {
   "cell_type": "markdown",
   "id": "d404b8f1-bbbf-48fa-b1f0-6f786b59f6e3",
   "metadata": {},
   "source": [
    "Q3. Write a python program to convert the given list of integers into a tuple of strings. Use map and\n",
    "lambda functions\n",
    "Given String: [1, 2, 3, 4, 5, 6, 7, 8, 9, 10]\n",
    "Expected output: ('1', '2', '3', '4', '5', '6', '7', '8', '9', '10')"
   ]
  },
  {
   "cell_type": "code",
   "execution_count": 57,
   "id": "f8ba1173-9e3b-450a-a3d8-30cb4004aa85",
   "metadata": {},
   "outputs": [
    {
     "data": {
      "text/plain": [
       "('1', '2', '3', '4', '5', '6', '7', '8', '9', '10')"
      ]
     },
     "execution_count": 57,
     "metadata": {},
     "output_type": "execute_result"
    }
   ],
   "source": [
    "li=[1,2,3,4,5,6,7,8,9,10]\n",
    "tuple(map(lambda a: str(a), li))"
   ]
  },
  {
   "cell_type": "markdown",
   "id": "33dff015-bd84-47fa-bc95-704ed0f830f7",
   "metadata": {},
   "source": [
    "Q4. Write a python program using reduce function to compute the product of a list containing numbers\n",
    "from 1 to 25."
   ]
  },
  {
   "cell_type": "code",
   "execution_count": 58,
   "id": "7e51a1e3-ec02-4338-a121-0d992d9c83ae",
   "metadata": {},
   "outputs": [
    {
     "data": {
      "text/plain": [
       "325"
      ]
     },
     "execution_count": 58,
     "metadata": {},
     "output_type": "execute_result"
    }
   ],
   "source": [
    "from functools import reduce\n",
    "a=range(1,26)\n",
    "reduce(lambda x,y: x+y, a)"
   ]
  },
  {
   "cell_type": "markdown",
   "id": "697791b9-453a-478c-b66a-957999589c80",
   "metadata": {},
   "source": [
    "Q5. Write a python program to filter the numbers in a given list that are divisible by 2 and 3 using the\n",
    "filter function.\n",
    "[2, 3, 6, 9, 27, 60, 90, 120, 55, 46]"
   ]
  },
  {
   "cell_type": "code",
   "execution_count": 64,
   "id": "4dbd82bd-1bf2-4be5-a094-c5107505ce0f",
   "metadata": {},
   "outputs": [
    {
     "data": {
      "text/plain": [
       "[6, 60, 90, 120]"
      ]
     },
     "execution_count": 64,
     "metadata": {},
     "output_type": "execute_result"
    }
   ],
   "source": [
    "v= [2, 3, 6, 9, 27, 60, 90, 120, 55, 46]\n",
    "list(filter(lambda i: i%2==0 and i%3==0 , v))"
   ]
  },
  {
   "cell_type": "markdown",
   "id": "7d939c37-c162-412c-be67-4e6dda9f2914",
   "metadata": {},
   "source": [
    "Q6. Write a python program to find palindromes in the given list of strings using lambda and filter\n",
    "function.\n",
    "['python', 'php', 'aba', 'radar', 'level']"
   ]
  },
  {
   "cell_type": "code",
   "execution_count": null,
   "id": "d8ded682-68d0-4b0e-9c3f-cf5c93cdf807",
   "metadata": {},
   "outputs": [],
   "source": [
    "k=['python', 'php', 'aba', 'radar', 'level']\n"
   ]
  }
 ],
 "metadata": {
  "kernelspec": {
   "display_name": "Python 3 (ipykernel)",
   "language": "python",
   "name": "python3"
  },
  "language_info": {
   "codemirror_mode": {
    "name": "ipython",
    "version": 3
   },
   "file_extension": ".py",
   "mimetype": "text/x-python",
   "name": "python",
   "nbconvert_exporter": "python",
   "pygments_lexer": "ipython3",
   "version": "3.10.8"
  }
 },
 "nbformat": 4,
 "nbformat_minor": 5
}
